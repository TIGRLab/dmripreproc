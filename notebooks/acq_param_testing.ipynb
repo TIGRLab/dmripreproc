{
 "cells": [
  {
   "cell_type": "code",
   "execution_count": 1,
   "metadata": {},
   "outputs": [],
   "source": [
    "base_dir = \"/projects/mjoseph/pipelines/testing/data\""
   ]
  },
  {
   "cell_type": "markdown",
   "metadata": {},
   "source": [
    "- GE/Philips: EchoTrainLength it will be Echo train length/PE steps  \n",
    "- SIEMENS: EPIFactor \n",
    "acquisition direction A>>P or P>>A"
   ]
  },
  {
   "cell_type": "markdown",
   "metadata": {},
   "source": [
    "total_readout_time = 1 / PE bandwidth  \n",
    "effective echo spacing = 1 / (PE bandwidth * (ETL - 1) * acc factor)"
   ]
  },
  {
   "cell_type": "markdown",
   "metadata": {},
   "source": [
    "- echo spacing = .53ms\n",
    "- number of in plane lines in the reconstructed epi image = 64\n",
    "- acceleration factor = 2\n",
    "- number of in plane reference lines = 24\n",
    "\n",
    "My questions: \n",
    "What do I have to enter as the echo spacing for b0 field unwarping with \n",
    "feat/fugue?\n",
    "(a) .53ms/2 (echo_spacing*#lines_in_images / acceleration factor) \n",
    "(b) .53*64/(32+24) (echo_spacing*#lines_in_images/(#lines_in_images + \n",
    "#reference_lines))\n",
    "(c) something else ..."
   ]
  },
  {
   "cell_type": "code",
   "execution_count": 5,
   "metadata": {},
   "outputs": [],
   "source": [
    "from bids import BIDSLayout\n",
    "\n",
    "layout = BIDSLayout(base_dir)"
   ]
  },
  {
   "cell_type": "code",
   "execution_count": 4,
   "metadata": {},
   "outputs": [],
   "source": [
    "dwi_file = \"{}/sub-CMP0178/ses-01/dwi/sub-CMP0178_ses-01_acq-singleshell_dwi.nii.gz\""
   ]
  },
  {
   "cell_type": "code",
   "execution_count": 7,
   "metadata": {},
   "outputs": [],
   "source": [
    "metadata = layout.get_metadata(dwi_file)"
   ]
  },
  {
   "cell_type": "code",
   "execution_count": 8,
   "metadata": {},
   "outputs": [
    {
     "data": {
      "text/plain": [
       "{}"
      ]
     },
     "execution_count": 8,
     "metadata": {},
     "output_type": "execute_result"
    }
   ],
   "source": [
    "metadata"
   ]
  },
  {
   "cell_type": "code",
   "execution_count": null,
   "metadata": {},
   "outputs": [],
   "source": []
  }
 ],
 "metadata": {
  "kernelspec": {
   "display_name": "dmriprep_venv",
   "language": "python",
   "name": "dmriprep_venv"
  },
  "language_info": {
   "codemirror_mode": {
    "name": "ipython",
    "version": 3
   },
   "file_extension": ".py",
   "mimetype": "text/x-python",
   "name": "python",
   "nbconvert_exporter": "python",
   "pygments_lexer": "ipython3",
   "version": "3.7.3"
  }
 },
 "nbformat": 4,
 "nbformat_minor": 2
}
