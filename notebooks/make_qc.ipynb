{
 "cells": [
  {
   "cell_type": "code",
   "execution_count": 67,
   "metadata": {},
   "outputs": [],
   "source": [
    "from docopt import docopt\n",
    "import pandas as pd\n",
    "import os\n",
    "import tempfile\n",
    "import shutil\n",
    "from glob import glob\n",
    "import sys\n",
    "import subprocess as proc\n",
    "\n",
    "import datman as dm\n",
    "import datman.utils"
   ]
  },
  {
   "cell_type": "code",
   "execution_count": 68,
   "metadata": {},
   "outputs": [],
   "source": [
    "output_dir = '/scratch/smansour/CARTBIND/combined/dmriprep'\n",
    "dtifit_dir = '/scratch/mjoseph/test/dtifit'\n",
    "QCdir = os.path.join(dtifit_dir, 'QC')\n",
    "tmpdirbase = os.path.join(QCdir,'tmp')\n",
    "QC_bet_dir = os.path.join(QCdir,'BET')\n",
    "QC_V1_dir = os.path.join(QCdir, 'directions')\n",
    "QC_FM_dir = os.path.join(QCdir, 'FM')\n",
    "QC_Mag_dir = os.path.join(QCdir, 'Mag')\n",
    "QC_res_dir = os.path.join(QCdir, 'res')\n",
    "QC_SH_dir = os.path.join(QCdir, 'SH')\n",
    "\n",
    "dir_list = [tmpdirbase, QC_bet_dir, QC_V1_dir, QC_res_dir, QC_SH_dir]"
   ]
  },
  {
   "cell_type": "code",
   "execution_count": 69,
   "metadata": {},
   "outputs": [],
   "source": [
    "for qc_dir in dir_list:\n",
    "    if not os.path.exists(qc_dir):\n",
    "        os.makedirs(qc_dir)"
   ]
  },
  {
   "cell_type": "code",
   "execution_count": 70,
   "metadata": {
    "scrolled": true
   },
   "outputs": [],
   "source": [
    "grad_out = os.path.join(tmpdirbase,'ramp.gif')\n",
    "create_gradient_file(grad_out,'red-yellow')"
   ]
  },
  {
   "cell_type": "code",
   "execution_count": 71,
   "metadata": {},
   "outputs": [],
   "source": [
    "maskpics = []\n",
    "V1pics = []\n",
    "Respics = []\n",
    "SHpics = []"
   ]
  },
  {
   "cell_type": "code",
   "execution_count": 72,
   "metadata": {},
   "outputs": [],
   "source": [
    "allFAmaps = glob('{}/sub-*/ses-*/dwi/dtifit__FA*'.format(output_dir))"
   ]
  },
  {
   "cell_type": "code",
   "execution_count": null,
   "metadata": {},
   "outputs": [],
   "source": [
    "for FAmap in allFAmaps:\n",
    "    subid = FAmap.split('/')[-4]\n",
    "    sesid = FAmap.split('/')[-3]\n",
    "    tmpdir = os.path.join(tmpdirbase, subid, sesid)\n",
    "    if not os.path.exists(tmpdir):\n",
    "        os.makedirs(tmpdir)\n",
    "    basename = '{}_{}_'.format(subid, sesid)\n",
    "    pathbase = FAmap.replace('dtifit__FA.nii.gz','')\n",
    "    pathdir = os.path.dirname(pathbase)\n",
    "    SHtmp = os.path.join(tmpdir,'SHmap.gif')\n",
    "    SHpic = os.path.join(QC_SH_dir,basename + 'SH.gif')\n",
    "    SHpics.append(SHpic)\n",
    "    SH_overlay(os.path.join(pathdir,'eddy_corrected_noise.nii.gz'), SHtmp, grad_out)\n",
    "    if os.path.exists(os.path.join(pathdir,'eddy_corrected_noise.nii.gz')):\n",
    "        gif_gridtoline(SHtmp,SHpic)"
   ]
  },
  {
   "cell_type": "code",
   "execution_count": 81,
   "metadata": {},
   "outputs": [
    {
     "name": "stderr",
     "output_type": "stream",
     "text": [
      "run(slices /scratch/smansour/CARTBIND/combined/dmriprep/sub-034/ses-01/dwi/sub-034_ses-01_dwi_denoised_unr_avg_b0_brain.nii.gz /scratch/smansour/CARTBIND/combined/dmriprep/sub-034/ses-01/dwi/sub-034_ses-01_dwi_denoised_unr_avg_b0_brain_mask.nii.gz -o /scratch/mjoseph/test/dtifit/QC/tmp/sub-034/ses-01/B0masked.gif) failed with returncode 1. STDERR: b''\n",
      "run(convert /scratch/mjoseph/test/dtifit/QC/tmp/sub-034/ses-01/B0masked.gif -resize 384x384 /scratch/mjoseph/test/dtifit/QC/tmp/sub-034/ses-01/B0masked.gif) failed with returncode 1. STDERR: b\"convert: unable to open image `/scratch/mjoseph/test/dtifit/QC/tmp/sub-034/ses-01/B0masked.gif': No such file or directory @ error/blob.c/OpenBlob/2712.\\nconvert: no images defined `/scratch/mjoseph/test/dtifit/QC/tmp/sub-034/ses-01/B0masked.gif' @ error/convert.c/ConvertImageCommand/3210.\\n\"\n",
      "run(convert /scratch/mjoseph/test/dtifit/QC/tmp/sub-034/ses-01/B0masked.gif -crop 100x33%+0+0 /scratch/mjoseph/test/dtifit/QC/tmp/sub-034/ses-01/sag.gif) failed with returncode 1. STDERR: b\"convert: unable to open image `/scratch/mjoseph/test/dtifit/QC/tmp/sub-034/ses-01/B0masked.gif': No such file or directory @ error/blob.c/OpenBlob/2712.\\nconvert: no images defined `/scratch/mjoseph/test/dtifit/QC/tmp/sub-034/ses-01/sag.gif' @ error/convert.c/ConvertImageCommand/3210.\\n\"\n",
      "run(convert /scratch/mjoseph/test/dtifit/QC/tmp/sub-034/ses-01/B0masked.gif -crop 100x33%+0+128 /scratch/mjoseph/test/dtifit/QC/tmp/sub-034/ses-01/cor.gif) failed with returncode 1. STDERR: b\"convert: unable to open image `/scratch/mjoseph/test/dtifit/QC/tmp/sub-034/ses-01/B0masked.gif': No such file or directory @ error/blob.c/OpenBlob/2712.\\nconvert: no images defined `/scratch/mjoseph/test/dtifit/QC/tmp/sub-034/ses-01/cor.gif' @ error/convert.c/ConvertImageCommand/3210.\\n\"\n",
      "run(convert /scratch/mjoseph/test/dtifit/QC/tmp/sub-034/ses-01/B0masked.gif -crop 100x33%+0+256 /scratch/mjoseph/test/dtifit/QC/tmp/sub-034/ses-01/ax.gif) failed with returncode 1. STDERR: b\"convert: unable to open image `/scratch/mjoseph/test/dtifit/QC/tmp/sub-034/ses-01/B0masked.gif': No such file or directory @ error/blob.c/OpenBlob/2712.\\nconvert: no images defined `/scratch/mjoseph/test/dtifit/QC/tmp/sub-034/ses-01/ax.gif' @ error/convert.c/ConvertImageCommand/3210.\\n\"\n",
      "run(slices /scratch/smansour/CARTBIND/combined/dmriprep/sub-098/ses-01/dwi/sub-098_ses-01_dwi_denoised_unr_avg_b0_brain.nii.gz /scratch/smansour/CARTBIND/combined/dmriprep/sub-098/ses-01/dwi/sub-098_ses-01_dwi_denoised_unr_avg_b0_brain_mask.nii.gz -o /scratch/mjoseph/test/dtifit/QC/tmp/sub-098/ses-01/B0masked.gif) failed with returncode 1. STDERR: b''\n",
      "run(convert /scratch/mjoseph/test/dtifit/QC/tmp/sub-098/ses-01/B0masked.gif -resize 384x384 /scratch/mjoseph/test/dtifit/QC/tmp/sub-098/ses-01/B0masked.gif) failed with returncode 1. STDERR: b\"convert: unable to open image `/scratch/mjoseph/test/dtifit/QC/tmp/sub-098/ses-01/B0masked.gif': No such file or directory @ error/blob.c/OpenBlob/2712.\\nconvert: no images defined `/scratch/mjoseph/test/dtifit/QC/tmp/sub-098/ses-01/B0masked.gif' @ error/convert.c/ConvertImageCommand/3210.\\n\"\n",
      "run(convert /scratch/mjoseph/test/dtifit/QC/tmp/sub-098/ses-01/B0masked.gif -crop 100x33%+0+0 /scratch/mjoseph/test/dtifit/QC/tmp/sub-098/ses-01/sag.gif) failed with returncode 1. STDERR: b\"convert: unable to open image `/scratch/mjoseph/test/dtifit/QC/tmp/sub-098/ses-01/B0masked.gif': No such file or directory @ error/blob.c/OpenBlob/2712.\\nconvert: no images defined `/scratch/mjoseph/test/dtifit/QC/tmp/sub-098/ses-01/sag.gif' @ error/convert.c/ConvertImageCommand/3210.\\n\"\n",
      "run(convert /scratch/mjoseph/test/dtifit/QC/tmp/sub-098/ses-01/B0masked.gif -crop 100x33%+0+128 /scratch/mjoseph/test/dtifit/QC/tmp/sub-098/ses-01/cor.gif) failed with returncode 1. STDERR: b\"convert: unable to open image `/scratch/mjoseph/test/dtifit/QC/tmp/sub-098/ses-01/B0masked.gif': No such file or directory @ error/blob.c/OpenBlob/2712.\\nconvert: no images defined `/scratch/mjoseph/test/dtifit/QC/tmp/sub-098/ses-01/cor.gif' @ error/convert.c/ConvertImageCommand/3210.\\n\"\n",
      "run(convert /scratch/mjoseph/test/dtifit/QC/tmp/sub-098/ses-01/B0masked.gif -crop 100x33%+0+256 /scratch/mjoseph/test/dtifit/QC/tmp/sub-098/ses-01/ax.gif) failed with returncode 1. STDERR: b\"convert: unable to open image `/scratch/mjoseph/test/dtifit/QC/tmp/sub-098/ses-01/B0masked.gif': No such file or directory @ error/blob.c/OpenBlob/2712.\\nconvert: no images defined `/scratch/mjoseph/test/dtifit/QC/tmp/sub-098/ses-01/ax.gif' @ error/convert.c/ConvertImageCommand/3210.\\n\"\n"
     ]
    }
   ],
   "source": [
    "for FAmap in allFAmaps:\n",
    "    subid = FAmap.split('/')[-4]\n",
    "    sesid = FAmap.split('/')[-3]\n",
    "    tmpdir = os.path.join(tmpdirbase, subid, sesid)\n",
    "    if not os.path.exists(tmpdir):\n",
    "        os.makedirs(tmpdir)\n",
    "    basename = '{}_{}_'.format(subid, sesid)\n",
    "    pathbase = FAmap.replace('dtifit__FA.nii.gz','')\n",
    "    pathdir = os.path.dirname(pathbase)\n",
    "\n",
    "    maskpic = os.path.join(QC_bet_dir,basename + 'b0_bet_mask.gif')\n",
    "    maskpics.append(maskpic)\n",
    "    mask_overlay(os.path.join(pathdir,'{}_{}_dwi_denoised_unr_avg_b0_brain.nii.gz'.format(subid, sesid)), \n",
    "                 os.path.join(pathdir,'{}_{}_dwi_denoised_unr_avg_b0_brain_mask.nii.gz'.format(subid, sesid)), maskpic)\n",
    "    V1pic = os.path.join(QC_V1_dir,basename + 'dtifit_V1.gif')\n",
    "    V1pics.append(V1pic)\n",
    "    V1_overlay(FAmap,pathbase + 'dtifit__V1.nii.gz', V1pic)\n",
    "\n",
    "#    SHtmp = os.path.join(tmpdir,'SHmap.gif')\n",
    "#    SHpic = os.path.join(QC_SH_dir,basename + 'SH.gif')\n",
    "#    SHpics.append(SHpic)\n",
    "#    SH_overlay(os.path.join(pathdir,'eddy_corrected_noise.nii.gz'), SHtmp, grad_out)\n",
    "#    gif_gridtoline(SHtmp,SHpic)"
   ]
  },
  {
   "cell_type": "code",
   "execution_count": 76,
   "metadata": {},
   "outputs": [],
   "source": [
    "qchtml = open(os.path.join(QCdir,'qc_BET.html'),'w')\n",
    "qchtml.write('<HTML><TITLE>DTIFIT BET QC page</TITLE>')\n",
    "qchtml.write('<BODY BGCOLOR=#333333>\\n')\n",
    "qchtml.write('<h1><font color=\"white\">DTIFIT BET QC page</font></h1>')\n",
    "for pic in maskpics:\n",
    "    relpath = os.path.relpath(pic,QCdir)\n",
    "    qchtml.write('<a href=\"'+ relpath + '\" style=\"color: #99CCFF\" >')\n",
    "    qchtml.write('<img src=\"' + relpath + '\" \"WIDTH=800\" > ')\n",
    "    qchtml.write(relpath + '</a><br>\\n')\n",
    "qchtml.write('</BODY></HTML>\\n')\n",
    "qchtml.close() # you can omit in most cases as the destructor will call it\n",
    "\n",
    "## write an html page that shows all the V1 pics\n",
    "qchtml = open(os.path.join(QCdir,'qc_directions.html'),'w')\n",
    "qchtml.write('<HTML><TITLE>DTIFIT directions QC page</TITLE>')\n",
    "qchtml.write('<BODY BGCOLOR=#333333>\\n')\n",
    "qchtml.write('<h1><font color=\"white\">DTIFIT directions QC page</font></h1>')\n",
    "for pic in V1pics:\n",
    "    relpath = os.path.relpath(pic,QCdir)\n",
    "    qchtml.write('<a href=\"'+ relpath + '\" style=\"color: #99CCFF\" >')\n",
    "    qchtml.write('<img src=\"' + relpath + '\" \"WIDTH=800\" > ')\n",
    "    qchtml.write(relpath + '</a><br>\\n')\n",
    "qchtml.write('</BODY></HTML>\\n')\n",
    "qchtml.close() # you can omit in most cases as the destructor will call it\n",
    "\n",
    "# write an html page that shows all the SH residual pics\n",
    "qchtml = open(os.path.join(QCdir,'qc_SH.html'),'w')\n",
    "qchtml.write('<HTML><TITLE>SH residual QC page</TITLE>')\n",
    "qchtml.write('<BODY BGCOLOR=#333333>\\n')\n",
    "qchtml.write('<h1><font color=\"white\">SH residual QC page</font></h1>')\n",
    "for pic in SHpics:\n",
    "    relpath = os.path.relpath(pic,QCdir)\n",
    "    qchtml.write('<a href=\"'+ relpath + '\" style=\"color: #99CCFF\" >')\n",
    "    qchtml.write('<img src=\"' + relpath + '\" \"WIDTH=800\" > ')\n",
    "    qchtml.write(relpath + '</a><br>\\n')\n",
    "qchtml.write('</BODY></HTML>\\n')\n",
    "qchtml.close() # you can omit in most cases as the destructor will call it\n",
    "\n",
    "## write an html page that shows all the Res pics\n",
    "qchtml = open(os.path.join(QCdir,'qc_res.html'),'w')\n",
    "qchtml.write('<HTML><TITLE>DTIFIT residual QC page</TITLE>')\n",
    "qchtml.write('<BODY BGCOLOR=#333333>\\n')\n",
    "qchtml.write('<h1><font color=\"white\">DTIFIT residual QC page</font></h1>')\n",
    "for pic in Respics:\n",
    "    relpath = os.path.relpath(pic,QCdir)\n",
    "    qchtml.write('<a href=\"'+ relpath + '\" style=\"color: #99CCFF\" >')\n",
    "    qchtml.write('<img src=\"' + relpath + '\" \"WIDTH=800\" > ')\n",
    "    qchtml.write(relpath + '</a><br>\\n')\n",
    "qchtml.write('</BODY></HTML>\\n')\n",
    "qchtml.close() # you can omit in most cases as the destructor will call it"
   ]
  },
  {
   "cell_type": "code",
   "execution_count": 41,
   "metadata": {},
   "outputs": [],
   "source": [
    "def gif_gridtoline(input_gif,output_gif):\n",
    "    '''\n",
    "    uses imagemagick to take a grid from fsl slices and convert to one line (like in slicesdir)\n",
    "    '''\n",
    "    dm.utils.run(['convert',input_gif, '-resize', '384x384',input_gif])\n",
    "    dm.utils.run(['convert', input_gif,\\\n",
    "        '-crop', '100x33%+0+0', os.path.join(tmpdir,'sag.gif')])\n",
    "    dm.utils.run(['convert', input_gif,\\\n",
    "        '-crop', '100x33%+0+128', os.path.join(tmpdir,'cor.gif')])\n",
    "    dm.utils.run(['convert', input_gif,\\\n",
    "        '-crop', '100x33%+0+256', os.path.join(tmpdir,'ax.gif')])\n",
    "    dm.utils.run(['montage', '-mode', 'concatenate', '-tile', '3x1', \\\n",
    "        os.path.join(tmpdir,'sag.gif'),\\\n",
    "        os.path.join(tmpdir,'cor.gif'),\\\n",
    "        os.path.join(tmpdir,'ax.gif'),\\\n",
    "        os.path.join(output_gif)])"
   ]
  },
  {
   "cell_type": "code",
   "execution_count": 74,
   "metadata": {},
   "outputs": [],
   "source": [
    "def mask_overlay(background_nii,mask_nii, overlay_gif):\n",
    "    '''\n",
    "    use slices from fsl to overlay the mask on the background (both nii)\n",
    "    then make the grid to a line for easier scrolling during QC\n",
    "    '''\n",
    "    dm.utils.run(['slices', background_nii, mask_nii, '-o', os.path.join(tmpdir,'B0masked.gif')])\n",
    "    gif_gridtoline(os.path.join(tmpdir,'B0masked.gif'),overlay_gif)"
   ]
  },
  {
   "cell_type": "code",
   "execution_count": 13,
   "metadata": {},
   "outputs": [],
   "source": [
    "def V1_overlay(background_nii,V1_nii, overlay_gif):\n",
    "    '''\n",
    "    use fslsplit to split the V1 image and take pictures of each direction\n",
    "    use slices from fsl to get the background and V1 picks (both nii)\n",
    "    recolor the V1 image using imagemagick\n",
    "    then make the grid to a line for easier scrolling during QC\n",
    "    '''\n",
    "    dm.utils.run(['slices',background_nii,'-o',os.path.join(tmpdir,\"background.gif\")])\n",
    "    dm.utils.run(['fslmaths',background_nii,'-thr','0.15','-bin',os.path.join(tmpdir,'FAmask.nii.gz')])\n",
    "    dm.utils.run(['fslsplit', V1_nii, os.path.join(tmpdir,\"V1\")])\n",
    "    for axis in ['0000','0001','0002']:\n",
    "        dm.utils.run(['fslmaths',os.path.join(tmpdir,'V1'+axis+'.nii.gz'), '-abs', \\\n",
    "            '-mul', os.path.join(tmpdir,'FAmask.nii.gz'), os.path.join(tmpdir,'V1'+axis+'abs.nii.gz')])\n",
    "        dm.utils.run(['slices',os.path.join(tmpdir,'V1'+axis+'abs.nii.gz'),'-o',os.path.join(tmpdir,'V1'+axis+'abs.gif')])\n",
    "        # docmd(['convert', os.path.join(tmpdir,'V1'+axis+'abs.gif'),\\\n",
    "        #         '-fuzz', '15%', '-transparent', 'black', os.path.join(tmpdir,'V1'+axis+'set.gif')])\n",
    "    dm.utils.run(['convert', os.path.join(tmpdir,'V10000abs.gif'),\\\n",
    "        os.path.join(tmpdir,'V10001abs.gif'), os.path.join(tmpdir,'V10002abs.gif'),\\\n",
    "        '-set', 'colorspace', 'RGB', '-combine', '-set', 'colorspace', 'sRGB',\\\n",
    "        os.path.join(tmpdir,'dirmap.gif')])\n",
    "    gif_gridtoline(os.path.join(tmpdir,'dirmap.gif'),overlay_gif)"
   ]
  },
  {
   "cell_type": "code",
   "execution_count": 14,
   "metadata": {},
   "outputs": [],
   "source": [
    "def SSE_overlay(sse,out,grad):\n",
    "    '''\n",
    "    Arguments:\n",
    "        sse                        Full path to SSE file\n",
    "        out                        Full path to output\n",
    "        grad                       Full path to gradient look-up map\n",
    "\n",
    "    Steps:\n",
    "    1. Clever/Hacky thresholding so maximum intensity is 2\n",
    "    2. Generate slices\n",
    "    3. Use gradient map to color greyscale image\n",
    "    4. Background filling with 0 fuzziness to prevent leakage\n",
    "    '''\n",
    "    slice_out = out.replace('.nii.gz','.gif')\n",
    "    cmd1 = 'fslmaths {} -sub 3 -mul -1 -thr 0 -mul -1 -add 3 {}'.format(sse,out)\n",
    "    cmd2 = 'slices {} -o {}'.format(out, slice_out)\n",
    "    cmd3 = 'convert {} {} -clut {}'.format(slice_out, grad, slice_out)\n",
    "    cmd4 = 'convert {} -fill black -draw \"color 0,0 floodfill\" {}'.format(slice_out,slice_out)\n",
    "    cmdlist = [cmd1, cmd2, cmd3, cmd4]\n",
    "    outputs = [call(c) for c in cmdlist]\n",
    "    return"
   ]
  },
  {
   "cell_type": "code",
   "execution_count": 58,
   "metadata": {},
   "outputs": [],
   "source": [
    "def SH_overlay(SH,out,grad):\n",
    "    '''\n",
    "    Arguments:\n",
    "        SH                         Full path to SSE file\n",
    "        out                        Full path to output\n",
    "        grad                       Full path to gradient look-up map\n",
    "\n",
    "    Steps:\n",
    "    1. Clever/Hacky thresholding so maximum intensity is 2\n",
    "    2. Generate slices\n",
    "    3. Use gradient map to color greyscale image\n",
    "    4. Background filling with 0 fuzziness to prevent leakage\n",
    "    '''\n",
    "    slice_out = out.replace('.nii.gz','.gif')\n",
    "    cmd1 = 'fslmaths {} -sub 0.3 -mul -1 -thr 0 -mul -1 -add 0.3 {}'.format(SH,out)\n",
    "    cmd2 = 'slices {} -o {}'.format(out, slice_out)\n",
    "    cmd3 = 'convert {} {} -clut {}'.format(slice_out, grad, slice_out)\n",
    "    cmd4 = 'convert {} -fill black -draw \"color 0,0 floodfill\" {}'.format(slice_out,slice_out)\n",
    "    cmdlist = [cmd1, cmd2, cmd3, cmd4]\n",
    "    outputs = [call(c) for c in cmdlist]\n",
    "    return"
   ]
  },
  {
   "cell_type": "code",
   "execution_count": 24,
   "metadata": {},
   "outputs": [],
   "source": [
    "def create_gradient_file(output,color):\n",
    "    '''\n",
    "    Arguments:\n",
    "        output                    Full path to output file\n",
    "        color                     String argument of Image-Magick 'color:color'\n",
    "    '''\n",
    "\n",
    "    cmd = 'convert -size 10x20 gradient:{} {}'.format(color,output)\n",
    "    call(cmd)\n",
    "    return"
   ]
  },
  {
   "cell_type": "code",
   "execution_count": 18,
   "metadata": {},
   "outputs": [],
   "source": [
    "def call(cmd):\n",
    "    p = proc.Popen(cmd,shell=True,stdin=proc.PIPE, stderr=proc.PIPE)\n",
    "    std, err = p.communicate()\n",
    "\n",
    "    if p.returncode:\n",
    "        print('{} failed with error {}'.format(cmd,err))\n",
    "    return"
   ]
  },
  {
   "cell_type": "code",
   "execution_count": 16,
   "metadata": {},
   "outputs": [],
   "source": [
    "def get_sse(sub):\n",
    "    sse = '{}_dtifit_sse.nii.gz'.format(sub)\n",
    "    return os.path.join(dtifitdir,sub,sse)"
   ]
  }
 ],
 "metadata": {
  "kernelspec": {
   "display_name": "tigrlab_venv",
   "language": "python",
   "name": "tigrlab_venv"
  }
 },
 "nbformat": 4,
 "nbformat_minor": 2
}
